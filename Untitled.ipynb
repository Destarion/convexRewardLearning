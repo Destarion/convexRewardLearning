{
 "cells": [
  {
   "cell_type": "code",
   "execution_count": 2,
   "id": "351610f7-6a7e-441a-ae49-e8b16622960e",
   "metadata": {},
   "outputs": [
    {
     "name": "stdout",
     "output_type": "stream",
     "text": [
      "Requirement already satisfied: sympy in c:\\users\\rapha\\onedrive\\documents\\convexrewardlearning\\.venv\\lib\\site-packages (1.12)\n",
      "Requirement already satisfied: mpmath>=0.19 in c:\\users\\rapha\\onedrive\\documents\\convexrewardlearning\\.venv\\lib\\site-packages (from sympy) (1.3.0)\n"
     ]
    }
   ],
   "source": [
    "!pip install sympy"
   ]
  },
  {
   "cell_type": "code",
   "execution_count": 44,
   "id": "b98cd5df-7531-4607-ba4d-78c377f21e02",
   "metadata": {},
   "outputs": [],
   "source": [
    "from sympy import symbols\n",
    "a = symbols(\"a\",positive=True)\n",
    "b = symbols(\"b\",positive=True)\n",
    "c,m,t,e, l= symbols(\"c m t e l\",positive=True)"
   ]
  },
  {
   "cell_type": "code",
   "execution_count": 89,
   "id": "c9e6d917-866c-44c5-a49a-a43aa0f65dba",
   "metadata": {
    "scrolled": true
   },
   "outputs": [
    {
     "data": {
      "text/latex": [
       "$\\displaystyle \\frac{\\sqrt{c} \\left(2 \\sqrt{2} \\sqrt{a} \\sqrt{b} \\sqrt{e} + e \\sqrt{l}\\right)}{e^{\\frac{3}{2}}}$"
      ],
      "text/plain": [
       "sqrt(c)*(2*sqrt(2)*sqrt(a)*sqrt(b)*sqrt(e) + e*sqrt(l))/e**(3/2)"
      ]
     },
     "execution_count": 89,
     "metadata": {},
     "output_type": "execute_result"
    }
   ],
   "source": [
    "from sympy import *\n",
    "\n",
    "simplify(alpha*alpha*alpha)\n",
    "muu = (sqrt(a/(2*b)))*(e/(sqrt(2*a*b)+sqrt(2*a*b + l*e)))\n",
    "trux = sqrt((c*l)/e + ((c*a)/(muu*e)))\n",
    "trux2 = (2*sqrt(2*a*b*c)/e + sqrt(l*c)/sqrt(e))\n",
    "simplify(trux2)\n"
   ]
  },
  {
   "cell_type": "code",
   "execution_count": 90,
   "id": "f50569ac-6ea9-4e00-aa88-97227f0fad12",
   "metadata": {},
   "outputs": [
    {
     "data": {
      "text/latex": [
       "$\\displaystyle \\sqrt{\\frac{\\sqrt{2} \\sqrt{a} \\sqrt{b} c \\left(\\sqrt{2} \\sqrt{a} \\sqrt{b} + \\sqrt{2 a b + e l}\\right)}{e^{2}} + \\frac{c l}{e}}$"
      ],
      "text/plain": [
       "sqrt(sqrt(2)*sqrt(a)*sqrt(b)*c*(sqrt(2)*sqrt(a)*sqrt(b) + sqrt(2*a*b + e*l))/e**2 + c*l/e)"
      ]
     },
     "execution_count": 90,
     "metadata": {},
     "output_type": "execute_result"
    }
   ],
   "source": [
    "trux"
   ]
  },
  {
   "cell_type": "code",
   "execution_count": 93,
   "id": "7a8bc931-0203-4df6-833f-450c81fb51a7",
   "metadata": {},
   "outputs": [
    {
     "data": {
      "text/latex": [
       "$\\displaystyle \\frac{2 \\sqrt{2} \\sqrt{a} \\sqrt{b} \\sqrt{c}}{e} + \\frac{\\sqrt{c} \\sqrt{l}}{\\sqrt{e}}$"
      ],
      "text/plain": [
       "2*sqrt(2)*sqrt(a)*sqrt(b)*sqrt(c)/e + sqrt(c)*sqrt(l)/sqrt(e)"
      ]
     },
     "execution_count": 93,
     "metadata": {},
     "output_type": "execute_result"
    }
   ],
   "source": [
    "trux2"
   ]
  },
  {
   "cell_type": "code",
   "execution_count": 63,
   "id": "8cfe0568-0809-4b6c-8df3-97b051ffc243",
   "metadata": {},
   "outputs": [
    {
     "data": {
      "text/latex": [
       "$\\displaystyle \\frac{2 \\sqrt{2} \\sqrt{a} \\sqrt{b} \\sqrt{c}}{e} - \\frac{\\sqrt{2} \\sqrt{a} \\sqrt{b} e}{\\sqrt{2} \\sqrt{a} \\sqrt{b} + \\sqrt{2 a b + e l}} + \\frac{\\sqrt{c} \\sqrt{l}}{\\sqrt{e}} - \\sqrt{\\frac{\\sqrt{2} \\sqrt{a} \\sqrt{b} c \\left(\\sqrt{2} \\sqrt{a} \\sqrt{b} + \\sqrt{2 a b + e l}\\right)}{e^{2}} + \\frac{c l}{e}} > 0$"
      ],
      "text/plain": [
       "2*sqrt(2)*sqrt(a)*sqrt(b)*sqrt(c)/e - sqrt(2)*sqrt(a)*sqrt(b)*e/(sqrt(2)*sqrt(a)*sqrt(b) + sqrt(2*a*b + e*l)) + sqrt(c)*sqrt(l)/sqrt(e) - sqrt(sqrt(2)*sqrt(a)*sqrt(b)*c*(sqrt(2)*sqrt(a)*sqrt(b) + sqrt(2*a*b + e*l))/e**2 + c*l/e) > 0"
      ]
     },
     "execution_count": 63,
     "metadata": {},
     "output_type": "execute_result"
    }
   ],
   "source": [
    "trux2-trux>0"
   ]
  },
  {
   "cell_type": "code",
   "execution_count": 64,
   "id": "70bd6910-800c-4e03-8af5-d12bb985a8c2",
   "metadata": {},
   "outputs": [
    {
     "data": {
      "text/latex": [
       "$\\displaystyle a^{2} - a < 0$"
      ],
      "text/plain": [
       "a**2 - a < 0"
      ]
     },
     "execution_count": 64,
     "metadata": {},
     "output_type": "execute_result"
    }
   ],
   "source": [
    "x = symbols(\"x\")\n",
    "a**2 - a <0"
   ]
  },
  {
   "cell_type": "code",
   "execution_count": 99,
   "id": "8163ad48-5767-4dd0-94c7-8263400e910e",
   "metadata": {},
   "outputs": [
    {
     "data": {
      "text/latex": [
       "$\\displaystyle \\frac{\\sqrt[4]{2} \\sqrt[4]{b} \\sqrt{\\sqrt{2} \\sqrt{a} \\sqrt{b} + \\sqrt{2 a b + e l}} \\sqrt{\\frac{\\sqrt{2} \\sqrt{a} c e l}{2 \\sqrt{b} \\left(\\sqrt{2} \\sqrt{a} \\sqrt{b} + \\sqrt{2 a b + e l}\\right)} + a c} \\sqrt{\\frac{1}{- \\frac{\\sqrt{2} \\sqrt{a} \\sqrt{b} e}{\\sqrt{2} \\sqrt{a} \\sqrt{b} + \\sqrt{2 a b + e l}} + e}}}{\\sqrt[4]{a} \\sqrt{e}}$"
      ],
      "text/plain": [
       "2**(1/4)*b**(1/4)*sqrt(sqrt(2)*sqrt(a)*sqrt(b) + sqrt(2*a*b + e*l))*sqrt(sqrt(2)*sqrt(a)*c*e*l/(2*sqrt(b)*(sqrt(2)*sqrt(a)*sqrt(b) + sqrt(2*a*b + e*l))) + a*c)*sqrt(1/(-sqrt(2)*sqrt(a)*sqrt(b)*e/(sqrt(2)*sqrt(a)*sqrt(b) + sqrt(2*a*b + e*l)) + e))/(a**(1/4)*sqrt(e))"
      ]
     },
     "execution_count": 99,
     "metadata": {},
     "output_type": "execute_result"
    }
   ],
   "source": [
    "collect(trux3, )"
   ]
  },
  {
   "cell_type": "code",
   "execution_count": 87,
   "id": "9432d935-b06e-4e60-86b5-4c50c58c2cf9",
   "metadata": {},
   "outputs": [
    {
     "data": {
      "text/latex": [
       "$\\displaystyle - \\frac{2 \\sqrt{2} \\sqrt{a} \\sqrt{b} \\sqrt{c}}{e} - \\frac{\\sqrt{c} \\sqrt{l}}{\\sqrt{e}} + \\frac{2^{\\frac{3}{4}} \\sqrt{c} \\sqrt{8 \\sqrt{2} a^{\\frac{5}{2}} b^{2} + 6 \\sqrt{2} a^{\\frac{3}{2}} b e l + \\sqrt{2} \\sqrt{a} e^{2} l^{2} + 8 a^{2} b^{\\frac{3}{2}} \\sqrt{2 a b + e l} + 4 a \\sqrt{b} e l \\sqrt{2 a b + e l}}}{2 \\sqrt[4]{a} e \\sqrt{2 a b + e l}} \\geq 0$"
      ],
      "text/plain": [
       "-2*sqrt(2)*sqrt(a)*sqrt(b)*sqrt(c)/e - sqrt(c)*sqrt(l)/sqrt(e) + 2**(3/4)*sqrt(c)*sqrt(8*sqrt(2)*a**(5/2)*b**2 + 6*sqrt(2)*a**(3/2)*b*e*l + sqrt(2)*sqrt(a)*e**2*l**2 + 8*a**2*b**(3/2)*sqrt(2*a*b + e*l) + 4*a*sqrt(b)*e*l*sqrt(2*a*b + e*l))/(2*a**(1/4)*e*sqrt(2*a*b + e*l)) >= 0"
      ]
     },
     "execution_count": 87,
     "metadata": {},
     "output_type": "execute_result"
    }
   ],
   "source": [
    "trux3= sqrt((c*a + c*muu*l)/(muu*(e - 2 * b * muu)))\n",
    "simplify(trux3-trux2)>=0"
   ]
  },
  {
   "cell_type": "code",
   "execution_count": null,
   "id": "3c713e7f-ed25-4c2e-9c02-8a58ed258e70",
   "metadata": {},
   "outputs": [],
   "source": []
  }
 ],
 "metadata": {
  "kernelspec": {
   "display_name": "Python 3 (ipykernel)",
   "language": "python",
   "name": "python3"
  },
  "language_info": {
   "codemirror_mode": {
    "name": "ipython",
    "version": 3
   },
   "file_extension": ".py",
   "mimetype": "text/x-python",
   "name": "python",
   "nbconvert_exporter": "python",
   "pygments_lexer": "ipython3",
   "version": "3.9.0"
  }
 },
 "nbformat": 4,
 "nbformat_minor": 5
}
